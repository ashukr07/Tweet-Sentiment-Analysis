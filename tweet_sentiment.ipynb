{
  "nbformat": 4,
  "nbformat_minor": 0,
  "metadata": {
    "colab": {
      "provenance": []
    },
    "kernelspec": {
      "name": "python3",
      "display_name": "Python 3"
    },
    "language_info": {
      "name": "python"
    }
  },
  "cells": [
    {
      "cell_type": "code",
      "source": [
        "pip install nltk"
      ],
      "metadata": {
        "colab": {
          "base_uri": "https://localhost:8080/"
        },
        "id": "c6a5OPUILI1O",
        "outputId": "9f01201f-124f-44df-b37e-a1f9bdc0fb38"
      },
      "execution_count": null,
      "outputs": [
        {
          "output_type": "stream",
          "name": "stdout",
          "text": [
            "Looking in indexes: https://pypi.org/simple, https://us-python.pkg.dev/colab-wheels/public/simple/\n",
            "Requirement already satisfied: nltk in /usr/local/lib/python3.7/dist-packages (3.7)\n",
            "Requirement already satisfied: tqdm in /usr/local/lib/python3.7/dist-packages (from nltk) (4.64.1)\n",
            "Requirement already satisfied: click in /usr/local/lib/python3.7/dist-packages (from nltk) (7.1.2)\n",
            "Requirement already satisfied: regex>=2021.8.3 in /usr/local/lib/python3.7/dist-packages (from nltk) (2022.6.2)\n",
            "Requirement already satisfied: joblib in /usr/local/lib/python3.7/dist-packages (from nltk) (1.2.0)\n"
          ]
        }
      ]
    },
    {
      "cell_type": "code",
      "execution_count": null,
      "metadata": {
        "id": "I3PYrKE7R02X"
      },
      "outputs": [],
      "source": [
        "import pandas as pd\n",
        "import numpy as nd\n",
        "import nltk as ns\n"
      ]
    },
    {
      "cell_type": "code",
      "source": [
        "ns.download('stopwords')\n",
        "ns.download('wordnet')\n",
        "ns.download('averaged_perceptron_tagger')\n",
        "ns.download('punkt')\n",
        "ns.download('vader_lexicon')\n"
      ],
      "metadata": {
        "colab": {
          "base_uri": "https://localhost:8080/"
        },
        "id": "dp9dXDSbp1SL",
        "outputId": "14a2e349-7d54-46ad-e000-9f24d7e254b5"
      },
      "execution_count": null,
      "outputs": [
        {
          "output_type": "stream",
          "name": "stderr",
          "text": [
            "[nltk_data] Downloading package stopwords to /root/nltk_data...\n",
            "[nltk_data]   Package stopwords is already up-to-date!\n",
            "[nltk_data] Downloading package wordnet to /root/nltk_data...\n",
            "[nltk_data]   Package wordnet is already up-to-date!\n",
            "[nltk_data] Downloading package averaged_perceptron_tagger to\n",
            "[nltk_data]     /root/nltk_data...\n",
            "[nltk_data]   Package averaged_perceptron_tagger is already up-to-\n",
            "[nltk_data]       date!\n",
            "[nltk_data] Downloading package punkt to /root/nltk_data...\n",
            "[nltk_data]   Package punkt is already up-to-date!\n",
            "[nltk_data] Downloading package vader_lexicon to /root/nltk_data...\n",
            "[nltk_data]   Package vader_lexicon is already up-to-date!\n"
          ]
        },
        {
          "output_type": "execute_result",
          "data": {
            "text/plain": [
              "True"
            ]
          },
          "metadata": {},
          "execution_count": 24
        }
      ]
    },
    {
      "cell_type": "code",
      "source": [
        "from google.colab import drive\n",
        "drive.mount('/content/drive')"
      ],
      "metadata": {
        "colab": {
          "base_uri": "https://localhost:8080/"
        },
        "id": "AB9rf5FbWS72",
        "outputId": "f8f0c2d6-cc39-482b-dd60-4ec4cc9dcc47"
      },
      "execution_count": null,
      "outputs": [
        {
          "output_type": "stream",
          "name": "stdout",
          "text": [
            "Drive already mounted at /content/drive; to attempt to forcibly remount, call drive.mount(\"/content/drive\", force_remount=True).\n"
          ]
        }
      ]
    },
    {
      "cell_type": "code",
      "source": [
        "path=\"/content/drive/MyDrive/farmer/tweets.csv\"\n",
        "df=pd.read_csv(path)\n",
        "df.head()"
      ],
      "metadata": {
        "colab": {
          "base_uri": "https://localhost:8080/",
          "height": 444
        },
        "id": "N_f2niWPbXpK",
        "outputId": "3f66dbcd-33a8-42f8-cb64-b7e2367913a6"
      },
      "execution_count": null,
      "outputs": [
        {
          "output_type": "execute_result",
          "data": {
            "text/plain": [
              "                                            tweetUrl  \\\n",
              "0  https://twitter.com/ShashiRajbhar6/status/1376...   \n",
              "1  https://twitter.com/kaursuk06272818/status/137...   \n",
              "2  https://twitter.com/kaursuk06272818/status/137...   \n",
              "3  https://twitter.com/SukhdevSingh_/status/13767...   \n",
              "4  https://twitter.com/Davidmu66668113/status/137...   \n",
              "\n",
              "                        date  \\\n",
              "0  2021-03-30 03:33:46+00:00   \n",
              "1  2021-03-30 03:33:23+00:00   \n",
              "2  2021-03-30 03:31:00+00:00   \n",
              "3  2021-03-30 03:30:45+00:00   \n",
              "4  2021-03-30 03:30:30+00:00   \n",
              "\n",
              "                                     renderedContent       tweetId  \\\n",
              "0                       Support 👇\\n\\n#FarmersProtest  1.376739e+18   \n",
              "1  Supporting farmers means supporting our countr...  1.376739e+18   \n",
              "2  Support farmers if you are related to food #St...  1.376739e+18   \n",
              "3  #StopHateAgainstFarmers support #FarmersProtes...  1.376739e+18   \n",
              "4  You hate farmers I hate you, \\nif you love the...  1.376739e+18   \n",
              "\n",
              "         userId  replyCount  retweetCount  likeCount  quoteCount  \\\n",
              "0  1.015970e+18           0             0          0           0   \n",
              "1  1.332937e+18           0             0          0           0   \n",
              "2  1.332937e+18           0             0          0           0   \n",
              "3  1.308357e+18           0             1          3           0   \n",
              "4  1.357312e+18           0             0          1           0   \n",
              "\n",
              "                                              source  \\\n",
              "0  <a href=\"http://twitter.com/download/android\" ...   \n",
              "1  <a href=\"http://twitter.com/download/android\" ...   \n",
              "2  <a href=\"http://twitter.com/download/android\" ...   \n",
              "3  <a href=\"http://twitter.com/download/android\" ...   \n",
              "4  <a href=\"http://twitter.com/download/android\" ...   \n",
              "\n",
              "                                               media  retweetedTweet  \\\n",
              "0                                                NaN             NaN   \n",
              "1  [{'previewUrl': 'https://pbs.twimg.com/media/E...             NaN   \n",
              "2  [{'previewUrl': 'https://pbs.twimg.com/media/E...             NaN   \n",
              "3                                                NaN             NaN   \n",
              "4                                                NaN             NaN   \n",
              "\n",
              "  quotedTweet mentionedUsers  \n",
              "0         NaN            NaN  \n",
              "1         NaN            NaN  \n",
              "2         NaN            NaN  \n",
              "3         NaN            NaN  \n",
              "4         NaN            NaN  "
            ],
            "text/html": [
              "\n",
              "  <div id=\"df-4a22187c-37ff-4675-b177-d9b33f66c986\">\n",
              "    <div class=\"colab-df-container\">\n",
              "      <div>\n",
              "<style scoped>\n",
              "    .dataframe tbody tr th:only-of-type {\n",
              "        vertical-align: middle;\n",
              "    }\n",
              "\n",
              "    .dataframe tbody tr th {\n",
              "        vertical-align: top;\n",
              "    }\n",
              "\n",
              "    .dataframe thead th {\n",
              "        text-align: right;\n",
              "    }\n",
              "</style>\n",
              "<table border=\"1\" class=\"dataframe\">\n",
              "  <thead>\n",
              "    <tr style=\"text-align: right;\">\n",
              "      <th></th>\n",
              "      <th>tweetUrl</th>\n",
              "      <th>date</th>\n",
              "      <th>renderedContent</th>\n",
              "      <th>tweetId</th>\n",
              "      <th>userId</th>\n",
              "      <th>replyCount</th>\n",
              "      <th>retweetCount</th>\n",
              "      <th>likeCount</th>\n",
              "      <th>quoteCount</th>\n",
              "      <th>source</th>\n",
              "      <th>media</th>\n",
              "      <th>retweetedTweet</th>\n",
              "      <th>quotedTweet</th>\n",
              "      <th>mentionedUsers</th>\n",
              "    </tr>\n",
              "  </thead>\n",
              "  <tbody>\n",
              "    <tr>\n",
              "      <th>0</th>\n",
              "      <td>https://twitter.com/ShashiRajbhar6/status/1376...</td>\n",
              "      <td>2021-03-30 03:33:46+00:00</td>\n",
              "      <td>Support 👇\\n\\n#FarmersProtest</td>\n",
              "      <td>1.376739e+18</td>\n",
              "      <td>1.015970e+18</td>\n",
              "      <td>0</td>\n",
              "      <td>0</td>\n",
              "      <td>0</td>\n",
              "      <td>0</td>\n",
              "      <td>&lt;a href=\"http://twitter.com/download/android\" ...</td>\n",
              "      <td>NaN</td>\n",
              "      <td>NaN</td>\n",
              "      <td>NaN</td>\n",
              "      <td>NaN</td>\n",
              "    </tr>\n",
              "    <tr>\n",
              "      <th>1</th>\n",
              "      <td>https://twitter.com/kaursuk06272818/status/137...</td>\n",
              "      <td>2021-03-30 03:33:23+00:00</td>\n",
              "      <td>Supporting farmers means supporting our countr...</td>\n",
              "      <td>1.376739e+18</td>\n",
              "      <td>1.332937e+18</td>\n",
              "      <td>0</td>\n",
              "      <td>0</td>\n",
              "      <td>0</td>\n",
              "      <td>0</td>\n",
              "      <td>&lt;a href=\"http://twitter.com/download/android\" ...</td>\n",
              "      <td>[{'previewUrl': 'https://pbs.twimg.com/media/E...</td>\n",
              "      <td>NaN</td>\n",
              "      <td>NaN</td>\n",
              "      <td>NaN</td>\n",
              "    </tr>\n",
              "    <tr>\n",
              "      <th>2</th>\n",
              "      <td>https://twitter.com/kaursuk06272818/status/137...</td>\n",
              "      <td>2021-03-30 03:31:00+00:00</td>\n",
              "      <td>Support farmers if you are related to food #St...</td>\n",
              "      <td>1.376739e+18</td>\n",
              "      <td>1.332937e+18</td>\n",
              "      <td>0</td>\n",
              "      <td>0</td>\n",
              "      <td>0</td>\n",
              "      <td>0</td>\n",
              "      <td>&lt;a href=\"http://twitter.com/download/android\" ...</td>\n",
              "      <td>[{'previewUrl': 'https://pbs.twimg.com/media/E...</td>\n",
              "      <td>NaN</td>\n",
              "      <td>NaN</td>\n",
              "      <td>NaN</td>\n",
              "    </tr>\n",
              "    <tr>\n",
              "      <th>3</th>\n",
              "      <td>https://twitter.com/SukhdevSingh_/status/13767...</td>\n",
              "      <td>2021-03-30 03:30:45+00:00</td>\n",
              "      <td>#StopHateAgainstFarmers support #FarmersProtes...</td>\n",
              "      <td>1.376739e+18</td>\n",
              "      <td>1.308357e+18</td>\n",
              "      <td>0</td>\n",
              "      <td>1</td>\n",
              "      <td>3</td>\n",
              "      <td>0</td>\n",
              "      <td>&lt;a href=\"http://twitter.com/download/android\" ...</td>\n",
              "      <td>NaN</td>\n",
              "      <td>NaN</td>\n",
              "      <td>NaN</td>\n",
              "      <td>NaN</td>\n",
              "    </tr>\n",
              "    <tr>\n",
              "      <th>4</th>\n",
              "      <td>https://twitter.com/Davidmu66668113/status/137...</td>\n",
              "      <td>2021-03-30 03:30:30+00:00</td>\n",
              "      <td>You hate farmers I hate you, \\nif you love the...</td>\n",
              "      <td>1.376739e+18</td>\n",
              "      <td>1.357312e+18</td>\n",
              "      <td>0</td>\n",
              "      <td>0</td>\n",
              "      <td>1</td>\n",
              "      <td>0</td>\n",
              "      <td>&lt;a href=\"http://twitter.com/download/android\" ...</td>\n",
              "      <td>NaN</td>\n",
              "      <td>NaN</td>\n",
              "      <td>NaN</td>\n",
              "      <td>NaN</td>\n",
              "    </tr>\n",
              "  </tbody>\n",
              "</table>\n",
              "</div>\n",
              "      <button class=\"colab-df-convert\" onclick=\"convertToInteractive('df-4a22187c-37ff-4675-b177-d9b33f66c986')\"\n",
              "              title=\"Convert this dataframe to an interactive table.\"\n",
              "              style=\"display:none;\">\n",
              "        \n",
              "  <svg xmlns=\"http://www.w3.org/2000/svg\" height=\"24px\"viewBox=\"0 0 24 24\"\n",
              "       width=\"24px\">\n",
              "    <path d=\"M0 0h24v24H0V0z\" fill=\"none\"/>\n",
              "    <path d=\"M18.56 5.44l.94 2.06.94-2.06 2.06-.94-2.06-.94-.94-2.06-.94 2.06-2.06.94zm-11 1L8.5 8.5l.94-2.06 2.06-.94-2.06-.94L8.5 2.5l-.94 2.06-2.06.94zm10 10l.94 2.06.94-2.06 2.06-.94-2.06-.94-.94-2.06-.94 2.06-2.06.94z\"/><path d=\"M17.41 7.96l-1.37-1.37c-.4-.4-.92-.59-1.43-.59-.52 0-1.04.2-1.43.59L10.3 9.45l-7.72 7.72c-.78.78-.78 2.05 0 2.83L4 21.41c.39.39.9.59 1.41.59.51 0 1.02-.2 1.41-.59l7.78-7.78 2.81-2.81c.8-.78.8-2.07 0-2.86zM5.41 20L4 18.59l7.72-7.72 1.47 1.35L5.41 20z\"/>\n",
              "  </svg>\n",
              "      </button>\n",
              "      \n",
              "  <style>\n",
              "    .colab-df-container {\n",
              "      display:flex;\n",
              "      flex-wrap:wrap;\n",
              "      gap: 12px;\n",
              "    }\n",
              "\n",
              "    .colab-df-convert {\n",
              "      background-color: #E8F0FE;\n",
              "      border: none;\n",
              "      border-radius: 50%;\n",
              "      cursor: pointer;\n",
              "      display: none;\n",
              "      fill: #1967D2;\n",
              "      height: 32px;\n",
              "      padding: 0 0 0 0;\n",
              "      width: 32px;\n",
              "    }\n",
              "\n",
              "    .colab-df-convert:hover {\n",
              "      background-color: #E2EBFA;\n",
              "      box-shadow: 0px 1px 2px rgba(60, 64, 67, 0.3), 0px 1px 3px 1px rgba(60, 64, 67, 0.15);\n",
              "      fill: #174EA6;\n",
              "    }\n",
              "\n",
              "    [theme=dark] .colab-df-convert {\n",
              "      background-color: #3B4455;\n",
              "      fill: #D2E3FC;\n",
              "    }\n",
              "\n",
              "    [theme=dark] .colab-df-convert:hover {\n",
              "      background-color: #434B5C;\n",
              "      box-shadow: 0px 1px 3px 1px rgba(0, 0, 0, 0.15);\n",
              "      filter: drop-shadow(0px 1px 2px rgba(0, 0, 0, 0.3));\n",
              "      fill: #FFFFFF;\n",
              "    }\n",
              "  </style>\n",
              "\n",
              "      <script>\n",
              "        const buttonEl =\n",
              "          document.querySelector('#df-4a22187c-37ff-4675-b177-d9b33f66c986 button.colab-df-convert');\n",
              "        buttonEl.style.display =\n",
              "          google.colab.kernel.accessAllowed ? 'block' : 'none';\n",
              "\n",
              "        async function convertToInteractive(key) {\n",
              "          const element = document.querySelector('#df-4a22187c-37ff-4675-b177-d9b33f66c986');\n",
              "          const dataTable =\n",
              "            await google.colab.kernel.invokeFunction('convertToInteractive',\n",
              "                                                     [key], {});\n",
              "          if (!dataTable) return;\n",
              "\n",
              "          const docLinkHtml = 'Like what you see? Visit the ' +\n",
              "            '<a target=\"_blank\" href=https://colab.research.google.com/notebooks/data_table.ipynb>data table notebook</a>'\n",
              "            + ' to learn more about interactive tables.';\n",
              "          element.innerHTML = '';\n",
              "          dataTable['output_type'] = 'display_data';\n",
              "          await google.colab.output.renderOutput(dataTable, element);\n",
              "          const docLink = document.createElement('div');\n",
              "          docLink.innerHTML = docLinkHtml;\n",
              "          element.appendChild(docLink);\n",
              "        }\n",
              "      </script>\n",
              "    </div>\n",
              "  </div>\n",
              "  "
            ]
          },
          "metadata": {},
          "execution_count": 25
        }
      ]
    },
    {
      "cell_type": "code",
      "source": [
        "df.iloc[2].values[2]#value accessed by row"
      ],
      "metadata": {
        "colab": {
          "base_uri": "https://localhost:8080/",
          "height": 53
        },
        "id": "mhlWBdcAcoaP",
        "outputId": "af36272c-1e49-424e-df62-7af180c4ebbf"
      },
      "execution_count": null,
      "outputs": [
        {
          "output_type": "execute_result",
          "data": {
            "text/plain": [
              "'Support farmers if you are related to food #StopHateAgainstFarmers #FarmersProtest https://t.co/TcoZx4ZmyU'"
            ],
            "application/vnd.google.colaboratory.intrinsic+json": {
              "type": "string"
            }
          },
          "metadata": {},
          "execution_count": 66
        }
      ]
    },
    {
      "cell_type": "code",
      "source": [
        "#print(df.shape)#gives the total rows and columns in the datasheet\n",
        "df=df.head(500)#limit the number of rows from the datasheet to certain value \n",
        "print(df.shape)"
      ],
      "metadata": {
        "colab": {
          "base_uri": "https://localhost:8080/"
        },
        "id": "OckQdIAVG_NE",
        "outputId": "efa78654-1f14-4124-e438-05c181fe20fb"
      },
      "execution_count": null,
      "outputs": [
        {
          "output_type": "stream",
          "name": "stdout",
          "text": [
            "(500, 14)\n"
          ]
        }
      ]
    },
    {
      "cell_type": "code",
      "source": [
        "data=df['renderedContent'][4]#accessing the element at the 4th column of that row\n",
        "print(data)"
      ],
      "metadata": {
        "colab": {
          "base_uri": "https://localhost:8080/"
        },
        "id": "iK-6Tv1mIvcz",
        "outputId": "d70b8932-4f99-4234-d468-4f210b51e9f8"
      },
      "execution_count": null,
      "outputs": [
        {
          "output_type": "stream",
          "name": "stdout",
          "text": [
            "You hate farmers I hate you, \n",
            "if you love them I love you! ;) \n",
            "\n",
            "#StopHateAgainstFarmers \n",
            "#FarmersProtest\n"
          ]
        }
      ]
    },
    {
      "cell_type": "code",
      "source": [
        "tokens=ns.word_tokenize(data)\n",
        "print(tokens)"
      ],
      "metadata": {
        "colab": {
          "base_uri": "https://localhost:8080/"
        },
        "id": "DUe9tFKnKC39",
        "outputId": "9ae962d0-ad16-4962-e18a-5ed148af4ee8"
      },
      "execution_count": null,
      "outputs": [
        {
          "output_type": "stream",
          "name": "stdout",
          "text": [
            "['#', 'StopHateAgainstFarmers', '#', 'FarmersProtest', 'is', 'against', 'Farm', 'Laws', ',', 'not', 'against', 'any', 'religion', 'or', 'political', 'party', 'except', 'ruling', 'party', ',', 'wich', 'is', 'ignoring', 'farmers', 'for', 'the', 'interests', 'of', 'the', 'Corporates', '.']\n"
          ]
        }
      ]
    },
    {
      "cell_type": "code",
      "source": [
        "ns.pos_tag(tokens)"
      ],
      "metadata": {
        "colab": {
          "base_uri": "https://localhost:8080/"
        },
        "id": "1MAn6k2RKjvm",
        "outputId": "70e9bdf5-0698-4b4c-f866-878d99daec46"
      },
      "execution_count": null,
      "outputs": [
        {
          "output_type": "execute_result",
          "data": {
            "text/plain": [
              "[('#', '#'),\n",
              " ('StopHateAgainstFarmers', 'NNP'),\n",
              " ('#', '#'),\n",
              " ('FarmersProtest', 'NNP'),\n",
              " ('is', 'VBZ'),\n",
              " ('against', 'IN'),\n",
              " ('Farm', 'NNP'),\n",
              " ('Laws', 'NNP'),\n",
              " (',', ','),\n",
              " ('not', 'RB'),\n",
              " ('against', 'IN'),\n",
              " ('any', 'DT'),\n",
              " ('religion', 'NN'),\n",
              " ('or', 'CC'),\n",
              " ('political', 'JJ'),\n",
              " ('party', 'NN'),\n",
              " ('except', 'IN'),\n",
              " ('ruling', 'VBG'),\n",
              " ('party', 'NN'),\n",
              " (',', ','),\n",
              " ('wich', 'WP'),\n",
              " ('is', 'VBZ'),\n",
              " ('ignoring', 'VBG'),\n",
              " ('farmers', 'NNS'),\n",
              " ('for', 'IN'),\n",
              " ('the', 'DT'),\n",
              " ('interests', 'NNS'),\n",
              " ('of', 'IN'),\n",
              " ('the', 'DT'),\n",
              " ('Corporates', 'NNP'),\n",
              " ('.', '.')]"
            ]
          },
          "metadata": {},
          "execution_count": 36
        }
      ]
    },
    {
      "cell_type": "markdown",
      "source": [
        "# **vader technique for sentiment analysis**\n"
      ],
      "metadata": {
        "id": "Vx0WRKmnmbwr"
      }
    },
    {
      "cell_type": "code",
      "source": [
        "from nltk.sentiment import SentimentIntensityAnalyzer"
      ],
      "metadata": {
        "id": "aD9L090-mqoc"
      },
      "execution_count": null,
      "outputs": []
    },
    {
      "cell_type": "code",
      "source": [
        "sia=SentimentIntensityAnalyzer()"
      ],
      "metadata": {
        "id": "EOgdSgmao9Qc"
      },
      "execution_count": null,
      "outputs": []
    },
    {
      "cell_type": "code",
      "source": [
        "sia.polarity_scores('artist')"
      ],
      "metadata": {
        "colab": {
          "base_uri": "https://localhost:8080/"
        },
        "id": "E0d6SQHip-xC",
        "outputId": "1e608df8-8f17-4a2e-eba9-b710d6d35232"
      },
      "execution_count": null,
      "outputs": [
        {
          "output_type": "execute_result",
          "data": {
            "text/plain": [
              "{'neg': 0.0, 'neu': 1.0, 'pos': 0.0, 'compound': 0.0}"
            ]
          },
          "metadata": {},
          "execution_count": 19
        }
      ]
    },
    {
      "cell_type": "code",
      "source": [
        "sia.polarity_scores(data)"
      ],
      "metadata": {
        "colab": {
          "base_uri": "https://localhost:8080/"
        },
        "id": "bAa3cOuLqne4",
        "outputId": "8e542972-0022-413f-9fb3-3ed752a725bc"
      },
      "execution_count": null,
      "outputs": [
        {
          "output_type": "execute_result",
          "data": {
            "text/plain": [
              "{'neg': 0.274, 'neu': 0.333, 'pos': 0.392, 'compound': 0.4926}"
            ]
          },
          "metadata": {},
          "execution_count": 42
        }
      ]
    },
    {
      "cell_type": "code",
      "source": [
        "result={}\n",
        "for i,row in df.iterrows():\n",
        "  text=row['renderedContent']\n",
        "  result[i]=sia.polarity_scores(text)\n",
        "  \n",
        "  \n",
        "  \n",
        " "
      ],
      "metadata": {
        "id": "fVIOMXTbu311"
      },
      "execution_count": null,
      "outputs": []
    },
    {
      "cell_type": "code",
      "source": [
        "pd.DataFrame(result).T #.T for taking the transpose\n",
        "\n"
      ],
      "metadata": {
        "colab": {
          "base_uri": "https://localhost:8080/",
          "height": 424
        },
        "id": "44c0XAFxwQEg",
        "outputId": "12a7c15e-82b4-4989-b272-905f87a6ee93"
      },
      "execution_count": null,
      "outputs": [
        {
          "output_type": "execute_result",
          "data": {
            "text/plain": [
              "       neg    neu    pos  compound\n",
              "0    0.000  0.270  0.730    0.4019\n",
              "1    0.000  0.547  0.453    0.7003\n",
              "2    0.000  0.787  0.213    0.4019\n",
              "3    0.201  0.455  0.344    0.4939\n",
              "4    0.274  0.333  0.392    0.4926\n",
              "..     ...    ...    ...       ...\n",
              "495  0.363  0.637  0.000   -0.6908\n",
              "496  0.190  0.742  0.068   -0.2439\n",
              "497  0.197  0.803  0.000   -0.4019\n",
              "498  0.000  0.856  0.144    0.4927\n",
              "499  0.000  1.000  0.000    0.0000\n",
              "\n",
              "[500 rows x 4 columns]"
            ],
            "text/html": [
              "\n",
              "  <div id=\"df-ea3a3ce0-dbaa-47bf-8a03-97df840d522b\">\n",
              "    <div class=\"colab-df-container\">\n",
              "      <div>\n",
              "<style scoped>\n",
              "    .dataframe tbody tr th:only-of-type {\n",
              "        vertical-align: middle;\n",
              "    }\n",
              "\n",
              "    .dataframe tbody tr th {\n",
              "        vertical-align: top;\n",
              "    }\n",
              "\n",
              "    .dataframe thead th {\n",
              "        text-align: right;\n",
              "    }\n",
              "</style>\n",
              "<table border=\"1\" class=\"dataframe\">\n",
              "  <thead>\n",
              "    <tr style=\"text-align: right;\">\n",
              "      <th></th>\n",
              "      <th>neg</th>\n",
              "      <th>neu</th>\n",
              "      <th>pos</th>\n",
              "      <th>compound</th>\n",
              "    </tr>\n",
              "  </thead>\n",
              "  <tbody>\n",
              "    <tr>\n",
              "      <th>0</th>\n",
              "      <td>0.000</td>\n",
              "      <td>0.270</td>\n",
              "      <td>0.730</td>\n",
              "      <td>0.4019</td>\n",
              "    </tr>\n",
              "    <tr>\n",
              "      <th>1</th>\n",
              "      <td>0.000</td>\n",
              "      <td>0.547</td>\n",
              "      <td>0.453</td>\n",
              "      <td>0.7003</td>\n",
              "    </tr>\n",
              "    <tr>\n",
              "      <th>2</th>\n",
              "      <td>0.000</td>\n",
              "      <td>0.787</td>\n",
              "      <td>0.213</td>\n",
              "      <td>0.4019</td>\n",
              "    </tr>\n",
              "    <tr>\n",
              "      <th>3</th>\n",
              "      <td>0.201</td>\n",
              "      <td>0.455</td>\n",
              "      <td>0.344</td>\n",
              "      <td>0.4939</td>\n",
              "    </tr>\n",
              "    <tr>\n",
              "      <th>4</th>\n",
              "      <td>0.274</td>\n",
              "      <td>0.333</td>\n",
              "      <td>0.392</td>\n",
              "      <td>0.4926</td>\n",
              "    </tr>\n",
              "    <tr>\n",
              "      <th>...</th>\n",
              "      <td>...</td>\n",
              "      <td>...</td>\n",
              "      <td>...</td>\n",
              "      <td>...</td>\n",
              "    </tr>\n",
              "    <tr>\n",
              "      <th>495</th>\n",
              "      <td>0.363</td>\n",
              "      <td>0.637</td>\n",
              "      <td>0.000</td>\n",
              "      <td>-0.6908</td>\n",
              "    </tr>\n",
              "    <tr>\n",
              "      <th>496</th>\n",
              "      <td>0.190</td>\n",
              "      <td>0.742</td>\n",
              "      <td>0.068</td>\n",
              "      <td>-0.2439</td>\n",
              "    </tr>\n",
              "    <tr>\n",
              "      <th>497</th>\n",
              "      <td>0.197</td>\n",
              "      <td>0.803</td>\n",
              "      <td>0.000</td>\n",
              "      <td>-0.4019</td>\n",
              "    </tr>\n",
              "    <tr>\n",
              "      <th>498</th>\n",
              "      <td>0.000</td>\n",
              "      <td>0.856</td>\n",
              "      <td>0.144</td>\n",
              "      <td>0.4927</td>\n",
              "    </tr>\n",
              "    <tr>\n",
              "      <th>499</th>\n",
              "      <td>0.000</td>\n",
              "      <td>1.000</td>\n",
              "      <td>0.000</td>\n",
              "      <td>0.0000</td>\n",
              "    </tr>\n",
              "  </tbody>\n",
              "</table>\n",
              "<p>500 rows × 4 columns</p>\n",
              "</div>\n",
              "      <button class=\"colab-df-convert\" onclick=\"convertToInteractive('df-ea3a3ce0-dbaa-47bf-8a03-97df840d522b')\"\n",
              "              title=\"Convert this dataframe to an interactive table.\"\n",
              "              style=\"display:none;\">\n",
              "        \n",
              "  <svg xmlns=\"http://www.w3.org/2000/svg\" height=\"24px\"viewBox=\"0 0 24 24\"\n",
              "       width=\"24px\">\n",
              "    <path d=\"M0 0h24v24H0V0z\" fill=\"none\"/>\n",
              "    <path d=\"M18.56 5.44l.94 2.06.94-2.06 2.06-.94-2.06-.94-.94-2.06-.94 2.06-2.06.94zm-11 1L8.5 8.5l.94-2.06 2.06-.94-2.06-.94L8.5 2.5l-.94 2.06-2.06.94zm10 10l.94 2.06.94-2.06 2.06-.94-2.06-.94-.94-2.06-.94 2.06-2.06.94z\"/><path d=\"M17.41 7.96l-1.37-1.37c-.4-.4-.92-.59-1.43-.59-.52 0-1.04.2-1.43.59L10.3 9.45l-7.72 7.72c-.78.78-.78 2.05 0 2.83L4 21.41c.39.39.9.59 1.41.59.51 0 1.02-.2 1.41-.59l7.78-7.78 2.81-2.81c.8-.78.8-2.07 0-2.86zM5.41 20L4 18.59l7.72-7.72 1.47 1.35L5.41 20z\"/>\n",
              "  </svg>\n",
              "      </button>\n",
              "      \n",
              "  <style>\n",
              "    .colab-df-container {\n",
              "      display:flex;\n",
              "      flex-wrap:wrap;\n",
              "      gap: 12px;\n",
              "    }\n",
              "\n",
              "    .colab-df-convert {\n",
              "      background-color: #E8F0FE;\n",
              "      border: none;\n",
              "      border-radius: 50%;\n",
              "      cursor: pointer;\n",
              "      display: none;\n",
              "      fill: #1967D2;\n",
              "      height: 32px;\n",
              "      padding: 0 0 0 0;\n",
              "      width: 32px;\n",
              "    }\n",
              "\n",
              "    .colab-df-convert:hover {\n",
              "      background-color: #E2EBFA;\n",
              "      box-shadow: 0px 1px 2px rgba(60, 64, 67, 0.3), 0px 1px 3px 1px rgba(60, 64, 67, 0.15);\n",
              "      fill: #174EA6;\n",
              "    }\n",
              "\n",
              "    [theme=dark] .colab-df-convert {\n",
              "      background-color: #3B4455;\n",
              "      fill: #D2E3FC;\n",
              "    }\n",
              "\n",
              "    [theme=dark] .colab-df-convert:hover {\n",
              "      background-color: #434B5C;\n",
              "      box-shadow: 0px 1px 3px 1px rgba(0, 0, 0, 0.15);\n",
              "      filter: drop-shadow(0px 1px 2px rgba(0, 0, 0, 0.3));\n",
              "      fill: #FFFFFF;\n",
              "    }\n",
              "  </style>\n",
              "\n",
              "      <script>\n",
              "        const buttonEl =\n",
              "          document.querySelector('#df-ea3a3ce0-dbaa-47bf-8a03-97df840d522b button.colab-df-convert');\n",
              "        buttonEl.style.display =\n",
              "          google.colab.kernel.accessAllowed ? 'block' : 'none';\n",
              "\n",
              "        async function convertToInteractive(key) {\n",
              "          const element = document.querySelector('#df-ea3a3ce0-dbaa-47bf-8a03-97df840d522b');\n",
              "          const dataTable =\n",
              "            await google.colab.kernel.invokeFunction('convertToInteractive',\n",
              "                                                     [key], {});\n",
              "          if (!dataTable) return;\n",
              "\n",
              "          const docLinkHtml = 'Like what you see? Visit the ' +\n",
              "            '<a target=\"_blank\" href=https://colab.research.google.com/notebooks/data_table.ipynb>data table notebook</a>'\n",
              "            + ' to learn more about interactive tables.';\n",
              "          element.innerHTML = '';\n",
              "          dataTable['output_type'] = 'display_data';\n",
              "          await google.colab.output.renderOutput(dataTable, element);\n",
              "          const docLink = document.createElement('div');\n",
              "          docLink.innerHTML = docLinkHtml;\n",
              "          element.appendChild(docLink);\n",
              "        }\n",
              "      </script>\n",
              "    </div>\n",
              "  </div>\n",
              "  "
            ]
          },
          "metadata": {},
          "execution_count": 70
        }
      ]
    },
    {
      "cell_type": "code",
      "source": [],
      "metadata": {
        "id": "nIhjTbLc0WKf"
      },
      "execution_count": null,
      "outputs": []
    }
  ]
}